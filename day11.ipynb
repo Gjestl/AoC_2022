{
 "cells": [
  {
   "cell_type": "code",
   "execution_count": null,
   "metadata": {},
   "outputs": [],
   "source": [
    "input = open(\"day11input.txt\").read().split(\"\\n\")\n",
    "items = []\n",
    "operations = []\n",
    "tests = []\n",
    "line_no = 0\n",
    "while line_no < len(input) :\n",
    "    monkey = input[line_no:line_no + 6]\n",
    "    monkey_items = monkey[1].replace(\"  Starting items: \",\"\").split(\", \")\n",
    "    items.append(monkey_items)\n",
    "    for item in items[-1]:\n",
    "        item = int(item)\n",
    "\n",
    "    monkey_ops = monkey[2].replace(\"  Operation: new = \", \"\")\n",
    "    operations.append(monkey_ops)\n",
    "\n",
    "    monkey_tests = [] \n",
    "    monkey_tests.append(int(monkey[3].replace(\"  Test: divisible by \", \"\")))\n",
    "    monkey_tests.append(int(monkey[4].replace(\"    If true: throw to monkey \", \"\")))\n",
    "    monkey_tests.append(int(monkey[5].replace(\"    If false: throw to monkey \", \"\")))\n",
    "    tests.append(monkey_tests)\n",
    "\n",
    "    line_no = line_no + 7\n",
    "\n",
    "inspection_counter = []\n",
    "size_limiter = 1\n",
    "for no in range(len(items)):\n",
    "    inspection_counter.append(0)\n",
    "    size_limiter = size_limiter*tests[no][0]\n",
    "\n",
    "\n"
   ]
  },
  {
   "cell_type": "code",
   "execution_count": null,
   "metadata": {},
   "outputs": [],
   "source": [
    "def perform_operation(item, operation):\n",
    "    op_list = operation.split(\" \")\n",
    "    if op_list[0] == \"old\":\n",
    "        op_list[0] = item\n",
    "    if op_list[2] == \"old\":\n",
    "        op_list[2] = item\n",
    "    op_list[0] = int(op_list[0])\n",
    "    op_list[2] = int(op_list[2])\n",
    "    if op_list[1] == \"*\":\n",
    "        return op_list[0] * op_list[2]\n",
    "    if op_list[1] == \"+\":\n",
    "        return op_list[0] + op_list[2]\n",
    "    return -1"
   ]
  },
  {
   "cell_type": "code",
   "execution_count": null,
   "metadata": {},
   "outputs": [],
   "source": [
    "def throw_first_item(_from, _to):\n",
    "    items[_to].append(items[_from][0])\n",
    "    items[_from].pop(0)"
   ]
  },
  {
   "cell_type": "code",
   "execution_count": null,
   "metadata": {},
   "outputs": [],
   "source": [
    "def one_round():\n",
    "    for monkey_no in range(len(items)):\n",
    "        item_list = items[monkey_no]\n",
    "        items_left = len(item_list)\n",
    "        while items_left > 0:\n",
    "            items[monkey_no][0] = int(perform_operation(items[monkey_no][0], operations[monkey_no]) // 3)\n",
    "\n",
    "            if items[monkey_no][0] % tests[monkey_no][0] == 0:\n",
    "                throw_first_item(monkey_no,tests[monkey_no][1])            \n",
    "            else:\n",
    "                throw_first_item(monkey_no,tests[monkey_no][2])\n",
    "\n",
    "            inspection_counter[monkey_no] += 1\n",
    "            items_left -= 1"
   ]
  },
  {
   "cell_type": "code",
   "execution_count": null,
   "metadata": {},
   "outputs": [],
   "source": [
    "def one_round_part2():\n",
    "    for monkey_no in range(len(items)):\n",
    "        item_list = items[monkey_no]\n",
    "        items_left = len(item_list)\n",
    "        while items_left > 0:\n",
    "            items[monkey_no][0] = int(perform_operation(items[monkey_no][0], operations[monkey_no]) // 1) % size_limiter\n",
    "        \n",
    "            if items[monkey_no][0] % tests[monkey_no][0] == 0:\n",
    "                throw_first_item(monkey_no,tests[monkey_no][1])\n",
    "            else:\n",
    "                throw_first_item(monkey_no,tests[monkey_no][2])\n",
    "\n",
    "            inspection_counter[monkey_no] += 1\n",
    "            items_left -= 1"
   ]
  },
  {
   "attachments": {},
   "cell_type": "markdown",
   "metadata": {},
   "source": [
    "**part 1**"
   ]
  },
  {
   "cell_type": "code",
   "execution_count": null,
   "metadata": {},
   "outputs": [],
   "source": [
    "for rounds in range(20):\n",
    "    one_round()\n",
    "inspection_counter.sort()\n",
    "monkey_business = inspection_counter[-2] * inspection_counter[-1]\n",
    "\n",
    "print(f\"Total Monkey Business is {monkey_business}\")"
   ]
  },
  {
   "attachments": {},
   "cell_type": "markdown",
   "metadata": {},
   "source": [
    "**part two**"
   ]
  },
  {
   "cell_type": "code",
   "execution_count": null,
   "metadata": {},
   "outputs": [],
   "source": [
    "for rounds in range(10000):\n",
    "    one_round_part2()\n",
    "    \n",
    "inspection_counter.sort()\n",
    "monkey_business = inspection_counter[-2] * inspection_counter[-1]\n",
    "\n",
    "print(f\"Total Monkey Business is {monkey_business}\")"
   ]
  }
 ],
 "metadata": {
  "kernelspec": {
   "display_name": "Python 3.10.8 64-bit (microsoft store)",
   "language": "python",
   "name": "python3"
  },
  "language_info": {
   "codemirror_mode": {
    "name": "ipython",
    "version": 3
   },
   "file_extension": ".py",
   "mimetype": "text/x-python",
   "name": "python",
   "nbconvert_exporter": "python",
   "pygments_lexer": "ipython3",
   "version": "3.10.8"
  },
  "orig_nbformat": 4,
  "vscode": {
   "interpreter": {
    "hash": "60cc0462d95001e0861c8b5fe6290242593cb22e97e1c48b98a7e049c96298fb"
   }
  }
 },
 "nbformat": 4,
 "nbformat_minor": 2
}
