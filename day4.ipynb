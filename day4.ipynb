{
 "cells": [
  {
   "cell_type": "code",
   "execution_count": 1,
   "metadata": {},
   "outputs": [],
   "source": [
    "import pandas as pd"
   ]
  },
  {
   "cell_type": "code",
   "execution_count": 8,
   "metadata": {},
   "outputs": [],
   "source": [
    "df = pd.read_csv(r\"C:\\Users\\gjest\\Documents\\day4input.txt\")"
   ]
  },
  {
   "cell_type": "code",
   "execution_count": 19,
   "metadata": {},
   "outputs": [],
   "source": [
    "l1 = df.E1.str.split(\"-\")\n",
    "l2 = df.E2.str.split(\"-\")"
   ]
  },
  {
   "cell_type": "code",
   "execution_count": 23,
   "metadata": {},
   "outputs": [
    {
     "data": {
      "text/plain": [
       "498"
      ]
     },
     "execution_count": 23,
     "metadata": {},
     "output_type": "execute_result"
    }
   ],
   "source": [
    "c = 0\n",
    "for i in range(0,len(l1)):\n",
    "    l1_lower = int(l1[i][0])\n",
    "    l1_upper = int(l1[i][1])\n",
    "    l2_lower = int(l2[i][0])\n",
    "    l2_upper = int(l2[i][1])\n",
    "    if (l1_lower >= l2_lower and l1_upper <= l2_upper) or (l2_lower >= l1_lower and l2_upper <= l1_upper):\n",
    "        c+=1\n",
    "c"
   ]
  },
  {
   "cell_type": "code",
   "execution_count": 46,
   "metadata": {},
   "outputs": [
    {
     "data": {
      "text/plain": [
       "859"
      ]
     },
     "execution_count": 46,
     "metadata": {},
     "output_type": "execute_result"
    }
   ],
   "source": [
    "c = 0\n",
    "for i in range(0,len(l1)):\n",
    "    l1_lower = int(l1[i][0])\n",
    "    l1_upper = int(l1[i][1])\n",
    "    l2_lower = int(l2[i][0])\n",
    "    l2_upper = int(l2[i][1])\n",
    "    #if (l1_lower in range(l2_lower,l2_upper)) or (l2_lower in range(l1_lower, l1_upper)) or (l1_upper in range(l2_lower,l2_upper)) or (l2_upper in range(l1_lower, l1_upper)):\n",
    "    if set(range(l1_lower,l1_upper+1)).intersection(range(l2_lower, l2_upper+1)):\n",
    "        c+=1\n",
    "c"
   ]
  }
 ],
 "metadata": {
  "kernelspec": {
   "display_name": "Python 3.10.4 64-bit",
   "language": "python",
   "name": "python3"
  },
  "language_info": {
   "codemirror_mode": {
    "name": "ipython",
    "version": 3
   },
   "file_extension": ".py",
   "mimetype": "text/x-python",
   "name": "python",
   "nbconvert_exporter": "python",
   "pygments_lexer": "ipython3",
   "version": "3.10.4"
  },
  "orig_nbformat": 4,
  "vscode": {
   "interpreter": {
    "hash": "de240290c33b37a4aa9dedc7b2e2bc1b9237bf24268b25eb168283153a851d00"
   }
  }
 },
 "nbformat": 4,
 "nbformat_minor": 2
}
