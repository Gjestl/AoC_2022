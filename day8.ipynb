{
 "cells": [
  {
   "cell_type": "code",
   "execution_count": 199,
   "metadata": {},
   "outputs": [],
   "source": [
    "input = open(\"day8input.txt\").read()\n",
    "forest = input.split(\"\\n\")\n"
   ]
  },
  {
   "cell_type": "code",
   "execution_count": 102,
   "metadata": {},
   "outputs": [],
   "source": [
    "def is_visible_horizontal(colno, row):    \n",
    "    if (colno == 0 or colno == len(row) - 1):\n",
    "        return True\n",
    "    if [ t for t in row[:colno] if int(t) >= int(row[colno]) ] == [] or [ t for t in row[colno+1:] if int(t) >= int(row[colno]) ] == []:\n",
    "        return True\n",
    "    else:\n",
    "        return False\n"
   ]
  },
  {
   "cell_type": "code",
   "execution_count": 107,
   "metadata": {},
   "outputs": [],
   "source": [
    "def is_visible_vertically(rowno, columnno, forest):\n",
    "    column_to_check = [col[columnno] for col in forest]\n",
    "    return(is_visible_horizontal(rowno,column_to_check))"
   ]
  },
  {
   "cell_type": "code",
   "execution_count": 108,
   "metadata": {},
   "outputs": [
    {
     "data": {
      "text/plain": [
       "1688"
      ]
     },
     "execution_count": 108,
     "metadata": {},
     "output_type": "execute_result"
    }
   ],
   "source": [
    "no_visible_trees = 0\n",
    "for rowno in range(len(forest)):\n",
    "    for colno in range(len(forest[rowno])):\n",
    "        if is_visible_horizontal(colno, forest[rowno]) or is_visible_vertically(rowno,colno,forest):\n",
    "            no_visible_trees += 1\n",
    "no_visible_trees"
   ]
  },
  {
   "cell_type": "markdown",
   "metadata": {},
   "source": [
    "**PART TWO**"
   ]
  },
  {
   "cell_type": "code",
   "execution_count": 130,
   "metadata": {},
   "outputs": [],
   "source": [
    "def get_no_visible_trees_from_first(treeline):\n",
    "    no_trees = 0\n",
    "    for tree in treeline[1:]:\n",
    "        no_trees += 1     \n",
    "        if tree >= treeline[0]:\n",
    "            return no_trees\n",
    "    return no_trees"
   ]
  },
  {
   "cell_type": "code",
   "execution_count": 194,
   "metadata": {},
   "outputs": [],
   "source": [
    "def get_treeline(forest, rowno, colno, direction):\n",
    "    if direction == \"right\":\n",
    "        treeline = forest[rowno][colno:]\n",
    "    if direction == \"left\":\n",
    "        treeline = forest[rowno][::-1][len(forest[rowno]) - colno-1:]\n",
    "    if direction == \"down\":\n",
    "        treeline = [col[colno] for col in forest][rowno:]\n",
    "    if direction == \"up\":\n",
    "        col = [col[colno] for col in forest]\n",
    "        treeline = col[::-1][len(col)-rowno - 1:]\n",
    "    return treeline\n",
    "        \n"
   ]
  },
  {
   "cell_type": "code",
   "execution_count": 200,
   "metadata": {},
   "outputs": [
    {
     "data": {
      "text/plain": [
       "410400"
      ]
     },
     "execution_count": 200,
     "metadata": {},
     "output_type": "execute_result"
    }
   ],
   "source": [
    "best_tree = 0\n",
    "for rowno in range(len(forest)):\n",
    "    for colno in range(len(forest[rowno])):\n",
    "        tree_score = get_no_visible_trees_from_first(get_treeline(forest, rowno, colno, \"right\"))*get_no_visible_trees_from_first(get_treeline(forest, rowno, colno, \"left\"))*get_no_visible_trees_from_first(get_treeline(forest, rowno, colno, \"up\"))*get_no_visible_trees_from_first(get_treeline(forest, rowno, colno, \"down\")) \n",
    "        if tree_score > best_tree:\n",
    "            best_tree = tree_score\n",
    "best_tree"
   ]
  }
 ],
 "metadata": {
  "kernelspec": {
   "display_name": "Python 3.10.8 64-bit (microsoft store)",
   "language": "python",
   "name": "python3"
  },
  "language_info": {
   "codemirror_mode": {
    "name": "ipython",
    "version": 3
   },
   "file_extension": ".py",
   "mimetype": "text/x-python",
   "name": "python",
   "nbconvert_exporter": "python",
   "pygments_lexer": "ipython3",
   "version": "3.10.8"
  },
  "orig_nbformat": 4,
  "vscode": {
   "interpreter": {
    "hash": "60cc0462d95001e0861c8b5fe6290242593cb22e97e1c48b98a7e049c96298fb"
   }
  }
 },
 "nbformat": 4,
 "nbformat_minor": 2
}
