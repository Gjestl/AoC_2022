{
 "cells": [
  {
   "cell_type": "code",
   "execution_count": null,
   "metadata": {},
   "outputs": [],
   "source": [
    "input = open(\"day7input.txt\").read()\n",
    "input_list = input.split(\"\\n\")"
   ]
  },
  {
   "cell_type": "code",
   "execution_count": null,
   "metadata": {},
   "outputs": [],
   "source": [
    "def navigate_folders(current_dir, line):\n",
    "    new_dir = current_dir\n",
    "    if line == \"$ cd /\":\n",
    "        new_dir = []        \n",
    "    if line == \"$ cd ..\":       \n",
    "        new_dir.pop()\n",
    "    elif line[0:5] == \"$ cd \":\n",
    "        new_dir.append(line[5:])   \n",
    "    return new_dir"
   ]
  },
  {
   "cell_type": "code",
   "execution_count": null,
   "metadata": {},
   "outputs": [],
   "source": [
    "current_dir = []\n",
    "file_list = []\n",
    "for line in input_list:\n",
    "    current_dir = navigate_folders(current_dir,line)\n",
    "    if line[0].isnumeric():\n",
    "        file_list.append(current_dir + [line.split(\" \")[0]])        \n",
    "        "
   ]
  },
  {
   "cell_type": "code",
   "execution_count": null,
   "metadata": {},
   "outputs": [],
   "source": [
    "folder_dict = dict()\n",
    "for file in file_list:\n",
    "    for i in range(1, len(file)):\n",
    "        if str(file[0:i]) in folder_dict:\n",
    "            folder_dict[str(file[0:i])] += int(file[-1])\n",
    "        else:\n",
    "            folder_dict[str(file[0:i])] = int(file[-1])\n"
   ]
  },
  {
   "cell_type": "code",
   "execution_count": null,
   "metadata": {},
   "outputs": [],
   "source": [
    "sum({ k: v for k, v in folder_dict.items() if v <= 100000 }.values())"
   ]
  },
  {
   "cell_type": "code",
   "execution_count": null,
   "metadata": {},
   "outputs": [],
   "source": [
    "#part two\n",
    "available_space = 70000000 - folder_dict[\"['/']\"] \n",
    "space_needed = 30000000\n",
    "space_to_delete =  space_needed - available_space\n"
   ]
  },
  {
   "cell_type": "code",
   "execution_count": null,
   "metadata": {},
   "outputs": [],
   "source": [
    "min([v for k, v in folder_dict.items() if v >= space_to_delete])"
   ]
  }
 ],
 "metadata": {
  "kernelspec": {
   "display_name": "Python 3.10.8 64-bit (microsoft store)",
   "language": "python",
   "name": "python3"
  },
  "language_info": {
   "codemirror_mode": {
    "name": "ipython",
    "version": 3
   },
   "file_extension": ".py",
   "mimetype": "text/x-python",
   "name": "python",
   "nbconvert_exporter": "python",
   "pygments_lexer": "ipython3",
   "version": "3.10.8"
  },
  "orig_nbformat": 4,
  "vscode": {
   "interpreter": {
    "hash": "60cc0462d95001e0861c8b5fe6290242593cb22e97e1c48b98a7e049c96298fb"
   }
  }
 },
 "nbformat": 4,
 "nbformat_minor": 2
}
