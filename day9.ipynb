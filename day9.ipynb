{
 "cells": [
  {
   "cell_type": "code",
   "execution_count": null,
   "metadata": {},
   "outputs": [],
   "source": [
    "input = open(\"day9input.txt\").read().split(\"\\n\")\n",
    "head_move_list = []\n",
    "for move in range(len(input)):\n",
    "    head_move_list.append(input[move].split(\" \"))"
   ]
  },
  {
   "cell_type": "code",
   "execution_count": null,
   "metadata": {},
   "outputs": [],
   "source": [
    "def move_head(head,direction,steps):\n",
    "    new_head = head\n",
    "    if direction == \"R\":\n",
    "        new_head = (head[0], head[1] + steps)\n",
    "    if direction == \"L\":\n",
    "        new_head = (head[0], head[1] - steps)\n",
    "    if direction == \"U\":\n",
    "        new_head = (head[0] + steps, head[1])\n",
    "    if direction == \"D\":\n",
    "        new_head = (head[0] - steps, head[1])\n",
    "    return new_head"
   ]
  },
  {
   "cell_type": "code",
   "execution_count": null,
   "metadata": {},
   "outputs": [],
   "source": [
    "def get_new_tail_pos(head,tail):\n",
    "    if abs(head[0] - tail[0]) < 2 and abs(head[1] - tail[1]) < 2:\n",
    "        return tail\n",
    "    if head[0] == tail[0]:\n",
    "        if head[1] > tail[1]:\n",
    "            new_pos = (tail[0], tail[1] + 1)            \n",
    "        else:\n",
    "            new_pos = (tail[0], tail[1] - 1)\n",
    "    elif head[1] == tail[1]:\n",
    "        if head[0] > tail[0]:\n",
    "            new_pos = (tail[0]+ 1, tail[1])            \n",
    "        else:\n",
    "            new_pos = (tail[0] - 1, tail[1])\n",
    "    else: #move diagonally\n",
    "        if head[0] > tail[0]:\n",
    "            first_coord = tail[0] + 1\n",
    "        else:\n",
    "            first_coord = tail[0] - 1\n",
    "        if head[1] > tail[1]:\n",
    "            second_coord = tail[1] + 1\n",
    "        else:\n",
    "            second_coord = tail[1] - 1\n",
    "        new_pos = (first_coord, second_coord)\n",
    "    return new_pos\n",
    "    "
   ]
  },
  {
   "cell_type": "code",
   "execution_count": null,
   "metadata": {},
   "outputs": [],
   "source": [
    "h_pos = (0,0)\n",
    "t_pos = (0,0)\n",
    "t_list = []\n",
    "t_list.append(t_pos)\n",
    "\n",
    "for head_move in head_move_list:\n",
    "    for move in range(int(head_move[1])):      \n",
    "        h_pos = move_head(h_pos,head_move[0],1)\n",
    "        t_pos = get_new_tail_pos(h_pos,t_pos)\n",
    "        t_list.append(t_pos)\n",
    "len(set(t_list))"
   ]
  },
  {
   "attachments": {},
   "cell_type": "markdown",
   "metadata": {},
   "source": [
    "**part two**"
   ]
  },
  {
   "cell_type": "code",
   "execution_count": null,
   "metadata": {},
   "outputs": [],
   "source": [
    "rope = []\n",
    "for i in range(10):\n",
    "    rope.append((0,0))\n",
    "\n",
    "t_list = []\n",
    "t_list.append(rope[len(rope)-1])\n",
    "\n",
    "for head_move in head_move_list:\n",
    "    for move in range(int(head_move[1])):\n",
    "        rope[0] = move_head(rope[0],head_move[0],1)\n",
    "        for knot in range(1,len(rope)):\n",
    "            rope[knot] =  get_new_tail_pos(rope[knot-1],rope[knot])        \n",
    "        t_list.append(rope[-1])\n",
    "len(set(t_list))\n"
   ]
  }
 ],
 "metadata": {
  "kernelspec": {
   "display_name": "Python 3.10.8 64-bit (microsoft store)",
   "language": "python",
   "name": "python3"
  },
  "language_info": {
   "codemirror_mode": {
    "name": "ipython",
    "version": 3
   },
   "file_extension": ".py",
   "mimetype": "text/x-python",
   "name": "python",
   "nbconvert_exporter": "python",
   "pygments_lexer": "ipython3",
   "version": "3.10.8"
  },
  "orig_nbformat": 4,
  "vscode": {
   "interpreter": {
    "hash": "60cc0462d95001e0861c8b5fe6290242593cb22e97e1c48b98a7e049c96298fb"
   }
  }
 },
 "nbformat": 4,
 "nbformat_minor": 2
}
