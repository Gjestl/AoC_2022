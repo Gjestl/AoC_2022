{
 "cells": [
  {
   "cell_type": "code",
   "execution_count": null,
   "metadata": {},
   "outputs": [],
   "source": [
    "input = open(\"day15input.txt\").read().split(\"\\n\")"
   ]
  },
  {
   "cell_type": "code",
   "execution_count": null,
   "metadata": {},
   "outputs": [],
   "source": [
    "def manhatten_dist(point1, point2):\n",
    "    return abs(point1[0] - point2[0]) + abs(point1[1] - point2[1])"
   ]
  },
  {
   "cell_type": "code",
   "execution_count": null,
   "metadata": {},
   "outputs": [],
   "source": [
    "def get_covered_points_in_row(sensors, distance, row_no):\n",
    "    relevant_sensors = []\n",
    "    covered_points = []\n",
    "    for i in range(len(sensors)):\n",
    "       # print(f\"Sensor at y = {sensors[i][1]} with d = {distance[i]} relevant? {abs(sensors[i][1] - distance[i]) <= row_no} \")\n",
    "        if abs(sensors[i][1] - distance[i]) <= row_no:\n",
    "            sens_dist = (sensors[i][0], sensors[i][1], distance[i])\n",
    "            relevant_sensors.append(sens_dist)\n",
    "    for sensor in relevant_sensors:\n",
    "        dist_from_row = abs(sensor[1] - row_no)\n",
    "        points_covered = sensor[2] - dist_from_row\n",
    "        covered_points.append(sensor[0])\n",
    "        for i in range(1,points_covered + 1):\n",
    "            covered_points.append(sensor[0] + i)\n",
    "            covered_points.append(sensor[0] - i)\n",
    "    return covered_points\n",
    "    "
   ]
  },
  {
   "cell_type": "code",
   "execution_count": null,
   "metadata": {},
   "outputs": [],
   "source": [
    "def get_covered_points_in_row_p2(sensors, distance, row_no, min_coord, max_coord):\n",
    "    relevant_sensors = []\n",
    "    covered_points = []\n",
    "    for i in range(len(sensors)):\n",
    "        #print(f\"Sensor at y = {sensors[i][1]} with d = {distance[i]} relevant? {abs(sensors[i][1] - row_no  ) <= distance[i]} \")\n",
    "\n",
    "        if abs(sensors[i][1] - row_no  ) <= distance[i]:\n",
    "            sens_dist = (sensors[i][0], sensors[i][1], distance[i])\n",
    "            relevant_sensors.append(sens_dist)\n",
    "    for sensor in relevant_sensors:\n",
    "        dist_from_row = abs(sensor[1] - row_no)\n",
    "        points_covered = sensor[2] - dist_from_row\n",
    "        if sensor[0] >= min_coord and sensor[0] <= max_coord:\n",
    "            covered_points.append(sensor[0])\n",
    "        for i in range(1,points_covered + 1):\n",
    "            if sensor[0] + i >= min_coord and sensor[0] + i <= max_coord:                \n",
    "                covered_points.append(sensor[0] + i)\n",
    "            if sensor[0] - i >= min_coord and sensor[0] - i <= max_coord:                \n",
    "                covered_points.append(sensor[0] - i)\n",
    "    return covered_points\n",
    "    "
   ]
  },
  {
   "cell_type": "code",
   "execution_count": null,
   "metadata": {},
   "outputs": [],
   "source": [
    "def get_corners(point, distance):\n",
    "    corners = []\n",
    "    corners.append((point[0] - distance, point[1]))\n",
    "    corners.append((point[0] + distance, point[1]))\n",
    "    corners.append((point[0], point[1] + distance))\n",
    "    corners.append((point[0], point[1] - distance))\n",
    "    return corners"
   ]
  },
  {
   "cell_type": "code",
   "execution_count": null,
   "metadata": {},
   "outputs": [],
   "source": [
    "def get_edges(point, distance):\n",
    "    corners = []\n",
    "    corners.append((point[0] - distance, point[1]))#left\n",
    "    corners.append((point[0] + distance, point[1]))#right\n",
    "    corners.append((point[0], point[1] + distance))#up\n",
    "    corners.append((point[0], point[1] - distance))#down\n",
    "    for i in range(distance):\n",
    "        corners.append((point[0] - distance + i, point[1] + i))\n",
    "        corners.append((point[0] - distance + i, point[1] - i))\n",
    "        corners.append((point[0] + distance - i, point[1] + i))\n",
    "        corners.append((point[0] + distance - i, point[1] - i))\n",
    "    return corners"
   ]
  },
  {
   "cell_type": "code",
   "execution_count": null,
   "metadata": {},
   "outputs": [],
   "source": [
    "def check_if_point_is_covered(point, sensors, distance):\n",
    "    for i in range(len(sensors)):\n",
    "        if manhatten_dist(point,sensors[i]) <= distance[i]:\n",
    "            #print(f\"Point {point} is covered by  {sensors[i]} (it's {manhatten_dist(point,sensors[i])} away and covers {distance[i]} )\")\n",
    "            return True\n",
    "    return False"
   ]
  },
  {
   "cell_type": "code",
   "execution_count": null,
   "metadata": {},
   "outputs": [],
   "source": [
    "sensors = []\n",
    "beacons = []\n",
    "distance = []\n",
    "\n",
    "for line in input:\n",
    "    sensors.append((int(line.split(\":\")[0].replace(\"Sensor at x=\", \"\").replace(\" y=\", \"\").split(\",\")[0]), int(line.split(\":\")[0].replace(\"Sensor at x=\", \"\").replace(\" y=\", \"\").split(\",\")[1]) ))\n",
    "    beacons.append((int(line.split(\":\")[1].replace(\" closest beacon is at x=\", \"\").replace(\" y=\", \"\").split(\",\")[0]), int(line.split(\":\")[1].replace(\" closest beacon is at x=\", \"\").replace(\" y=\", \"\").split(\",\")[1]) ))\n",
    "    distance.append(manhatten_dist(sensors[-1], beacons[-1]))\n"
   ]
  },
  {
   "cell_type": "code",
   "execution_count": null,
   "metadata": {},
   "outputs": [],
   "source": [
    "candidate_neighbours = []\n",
    "min_coord = 0\n",
    "max_coord = 4000000\n",
    "\n",
    "#Beacon has to be next to an edge of a scanner's radius.\n",
    "\n",
    "for i in range(len(sensors)):\n",
    "    cor = get_edges(sensors[i],distance[i])\n",
    "    print(f\"Iterating sensors, {i} down, {len(sensors) - i} to go \")\n",
    "    for c in cor:\n",
    "        \n",
    "        if c[0] + 1 >= min_coord and c[0] + 1 <= max_coord and c[1] >= min_coord and c[1] <= max_coord:\n",
    "            candidate_neighbours.append((c[0] + 1,c[1]))\n",
    "        if c[0] - 1 >= min_coord and c[0] - 1 <= max_coord and c[1] >= min_coord and c[1] <= max_coord:\n",
    "            candidate_neighbours.append((c[0] - 1,c[1]))\n",
    "print(f\"Removing duplicates from {len(candidate_neighbours)} points)\")\n",
    "candidate_neighbours = list(set(candidate_neighbours))\n",
    "\n",
    "print(f\"About to check {len(candidate_neighbours)} points\")\n",
    "cnt = 0\n",
    "for point in candidate_neighbours:\n",
    "    if cnt % 1000000 == 0:        \n",
    "        print(f\"Checked {cnt} points, {len(candidate_neighbours) - cnt} to go\")\n",
    "    cnt += 1\n",
    "    if check_if_point_is_covered(point, sensors,distance) == False:\n",
    "        print(f\"We found the point! {point}, tuning frequency = {point[0]*4000000 + point[1]}\")\n",
    "        break\n"
   ]
  }
 ],
 "metadata": {
  "kernelspec": {
   "display_name": "Python 3.10.4 64-bit",
   "language": "python",
   "name": "python3"
  },
  "language_info": {
   "codemirror_mode": {
    "name": "ipython",
    "version": 3
   },
   "file_extension": ".py",
   "mimetype": "text/x-python",
   "name": "python",
   "nbconvert_exporter": "python",
   "pygments_lexer": "ipython3",
   "version": "3.10.4"
  },
  "orig_nbformat": 4,
  "vscode": {
   "interpreter": {
    "hash": "de240290c33b37a4aa9dedc7b2e2bc1b9237bf24268b25eb168283153a851d00"
   }
  }
 },
 "nbformat": 4,
 "nbformat_minor": 2
}
