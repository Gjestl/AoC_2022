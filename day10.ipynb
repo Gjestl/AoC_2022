{
 "cells": [
  {
   "cell_type": "code",
   "execution_count": 72,
   "metadata": {},
   "outputs": [],
   "source": [
    "input = open(\"day10input.txt\").read().split(\"\\n\")\n",
    "signal = []\n",
    "for cmd in input:\n",
    "    signal.append(cmd.split(\" \"))\n",
    "for cmd in signal:\n",
    "    if len(cmd) > 1:\n",
    "        cmd[1] = int(cmd[1])\n"
   ]
  },
  {
   "cell_type": "code",
   "execution_count": 73,
   "metadata": {},
   "outputs": [],
   "source": [
    "cycle = [1]\n",
    "for cmd in signal:\n",
    "        if cmd[0] == \"noop\":\n",
    "            cycle.append(cycle[-1])\n",
    "        else:\n",
    "            #run_cmd(cycle,\"noop\")\n",
    "            cycle.append(cycle[-1])\n",
    "            cycle.append(cycle[-1] + cmd[1] )\n"
   ]
  },
  {
   "cell_type": "code",
   "execution_count": null,
   "metadata": {},
   "outputs": [],
   "source": [
    "cycle_pos =19\n",
    "signal_strength = 0\n",
    "while cycle_pos < len(cycle):\n",
    "    signal_strength += (cycle_pos + 1)*cycle[cycle_pos]\n",
    "    cycle_pos += 40\n",
    "signal_strength"
   ]
  },
  {
   "attachments": {},
   "cell_type": "markdown",
   "metadata": {},
   "source": [
    "**part two**"
   ]
  },
  {
   "cell_type": "code",
   "execution_count": 76,
   "metadata": {},
   "outputs": [
    {
     "data": {
      "text/plain": [
       "['###...##..###..###..#..#..##..###....##.',\n",
       " '#..#.#..#.#..#.#..#.#.#..#..#.#..#....#.',\n",
       " '#..#.#....#..#.###..##...#..#.#..#....#.',\n",
       " '###..#....###..#..#.#.#..####.###.....#.',\n",
       " '#....#..#.#....#..#.#.#..#..#.#....#..#.',\n",
       " '#.....##..#....###..#..#.#..#.#.....##..']"
      ]
     },
     "execution_count": 76,
     "metadata": {},
     "output_type": "execute_result"
    }
   ],
   "source": [
    "output = []\n",
    "output_row = \"\"\n",
    "for cyc in range(len(cycle)):\n",
    "    if abs(cycle[cyc] - (cyc % 40) ) < 2:\n",
    "        output_row += \"#\"\n",
    "    else:\n",
    "        output_row += \".\"    \n",
    "    if (cyc + 1) % 40 == 0:\n",
    "        output.append(output_row)\n",
    "        output_row = \"\"\n",
    "output\n",
    "    \n"
   ]
  }
 ],
 "metadata": {
  "kernelspec": {
   "display_name": "Python 3.10.8 64-bit (microsoft store)",
   "language": "python",
   "name": "python3"
  },
  "language_info": {
   "codemirror_mode": {
    "name": "ipython",
    "version": 3
   },
   "file_extension": ".py",
   "mimetype": "text/x-python",
   "name": "python",
   "nbconvert_exporter": "python",
   "pygments_lexer": "ipython3",
   "version": "3.10.8"
  },
  "orig_nbformat": 4,
  "vscode": {
   "interpreter": {
    "hash": "60cc0462d95001e0861c8b5fe6290242593cb22e97e1c48b98a7e049c96298fb"
   }
  }
 },
 "nbformat": 4,
 "nbformat_minor": 2
}
